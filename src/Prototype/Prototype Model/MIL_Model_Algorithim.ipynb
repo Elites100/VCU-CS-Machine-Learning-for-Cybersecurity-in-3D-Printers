{
 "cells": [
  {
   "cell_type": "markdown",
   "metadata": {},
   "source": [
    "1. Import Dependencies"
   ]
  },
  {
   "cell_type": "code",
   "execution_count": 1,
   "metadata": {},
   "outputs": [
    {
     "name": "stderr",
     "output_type": "stream",
     "text": [
      "C:\\Users\\redbu\\AppData\\Local\\Temp\\ipykernel_19132\\760263362.py:3: DeprecationWarning: \n",
      "Pyarrow will become a required dependency of pandas in the next major release of pandas (pandas 3.0),\n",
      "(to allow more performant data types, such as the Arrow string type, and better interoperability with other libraries)\n",
      "but was not found to be installed on your system.\n",
      "If this would cause problems for you,\n",
      "please provide us feedback at https://github.com/pandas-dev/pandas/issues/54466\n",
      "        \n",
      "  import pandas as pd\n"
     ]
    },
    {
     "name": "stdout",
     "output_type": "stream",
     "text": [
      "WARNING:tensorflow:From c:\\Users\\redbu\\AppData\\Local\\Programs\\Python\\Python311\\Lib\\site-packages\\keras\\src\\losses.py:2976: The name tf.losses.sparse_softmax_cross_entropy is deprecated. Please use tf.compat.v1.losses.sparse_softmax_cross_entropy instead.\n",
      "\n"
     ]
    }
   ],
   "source": [
    "import os\n",
    "import numpy as np\n",
    "import pandas as pd\n",
    "import tensorflow as tf\n",
    "from sklearn.model_selection import train_test_split\n",
    "from sklearn.preprocessing import LabelEncoder"
   ]
  },
  {
   "cell_type": "markdown",
   "metadata": {},
   "source": [
    "2. Define Functions"
   ]
  },
  {
   "cell_type": "code",
   "execution_count": 2,
   "metadata": {},
   "outputs": [],
   "source": [
    "def read_csv_files(folder_paths):\n",
    "    data = []\n",
    "    for folder_path in folder_paths:\n",
    "        for file_name in os.listdir(folder_path):\n",
    "            if file_name.endswith('.csv'):\n",
    "                file_path = os.path.join(folder_path, file_name)\n",
    "                df = pd.read_csv(file_path)\n",
    "                data.append(df.values)\n",
    "    return data\n",
    "\n",
    "def preprocess_data(folder_paths):\n",
    "    data = read_csv_files(folder_paths)\n",
    "    X = []\n",
    "    y = []\n",
    "    for samples in data:\n",
    "        for sample in samples:\n",
    "            # Assuming the last column contains labels\n",
    "            X.append(sample[:-1])  # Features\n",
    "            y.append(sample[-1])   # Label\n",
    "    X = np.array(X)\n",
    "    y = np.array(y)\n",
    "    \n",
    "    # Perform any necessary preprocessing steps like normalization, encoding, etc.\n",
    "    # Here's an example of label encoding for binary classification\n",
    "    label_encoder = LabelEncoder()\n",
    "    y = label_encoder.fit_transform(y)\n",
    "    \n",
    "    # Split data into train and test sets\n",
    "    X_train, X_test, y_train, y_test = train_test_split(X, y, test_size=0.2, random_state=42)\n",
    "    \n",
    "    return X_train, X_test, y_train, y_test\n",
    "\n",
    "\n",
    "\n",
    "def create_mil_model(input_shape):\n",
    "    inputs = tf.keras.layers.Input(shape=input_shape)\n",
    "\n",
    "    # Reshape the input to add sequence length dimension\n",
    "    reshaped_input = tf.keras.layers.Reshape((input_shape[0], 1))(inputs)\n",
    "\n",
    "    # Define the shared part of the model\n",
    "    shared_layer = tf.keras.layers.Dense(64, activation='relu')(reshaped_input)\n",
    "\n",
    "    # Apply GlobalAveragePooling1D directly to the shared layer output\n",
    "    pooled_output = tf.keras.layers.GlobalAveragePooling1D()(shared_layer)\n",
    "\n",
    "    # Add a dense layer for classification\n",
    "    output = tf.keras.layers.Dense(1, activation='sigmoid')(pooled_output)\n",
    "\n",
    "    # Create the model\n",
    "    model = tf.keras.Model(inputs=inputs, outputs=output)\n",
    "\n",
    "    # Compile the model\n",
    "    model.compile(optimizer='adam',\n",
    "                  loss='binary_crossentropy',\n",
    "                  metrics=['accuracy'])\n",
    "\n",
    "    return model\n",
    "\n",
    "\n",
    "def train_mil_model(X_train, y_train):\n",
    "    model = create_mil_model(input_shape=X_train.shape[1:])\n",
    "    model.fit(X_train, y_train, epochs=10, batch_size=1024)\n",
    "    return model\n",
    "\n",
    "def evaluate_model(model, X_test, y_test):\n",
    "    loss, accuracy = model.evaluate(X_test, y_test)\n",
    "    print(\"Test Accuracy:\", accuracy)"
   ]
  },
  {
   "cell_type": "markdown",
   "metadata": {},
   "source": [
    "3. Import Data"
   ]
  },
  {
   "cell_type": "code",
   "execution_count": 3,
   "metadata": {},
   "outputs": [],
   "source": [
    "train_folder_paths = ['Z:\\Capstone Data\\CSV Files\\Training_Good', 'Z:\\Capstone Data\\CSV Files\\Training_Bad']\n",
    "test_folder_paths = ['Z:\\Capstone Data\\CSV Files\\Testing_Good', 'Z:\\Capstone Data\\CSV Files\\Testing_Bad']"
   ]
  },
  {
   "cell_type": "markdown",
   "metadata": {},
   "source": [
    "4. Train Model"
   ]
  },
  {
   "cell_type": "code",
   "execution_count": 4,
   "metadata": {},
   "outputs": [],
   "source": [
    "X_train, X_test, y_train, y_test = preprocess_data(train_folder_paths)"
   ]
  },
  {
   "cell_type": "code",
   "execution_count": 5,
   "metadata": {},
   "outputs": [
    {
     "name": "stdout",
     "output_type": "stream",
     "text": [
      "WARNING:tensorflow:From c:\\Users\\redbu\\AppData\\Local\\Programs\\Python\\Python311\\Lib\\site-packages\\keras\\src\\backend.py:1398: The name tf.executing_eagerly_outside_functions is deprecated. Please use tf.compat.v1.executing_eagerly_outside_functions instead.\n",
      "\n",
      "WARNING:tensorflow:From c:\\Users\\redbu\\AppData\\Local\\Programs\\Python\\Python311\\Lib\\site-packages\\keras\\src\\optimizers\\__init__.py:309: The name tf.train.Optimizer is deprecated. Please use tf.compat.v1.train.Optimizer instead.\n",
      "\n",
      "Epoch 1/10\n",
      "WARNING:tensorflow:From c:\\Users\\redbu\\AppData\\Local\\Programs\\Python\\Python311\\Lib\\site-packages\\keras\\src\\utils\\tf_utils.py:492: The name tf.ragged.RaggedTensorValue is deprecated. Please use tf.compat.v1.ragged.RaggedTensorValue instead.\n",
      "\n",
      "WARNING:tensorflow:From c:\\Users\\redbu\\AppData\\Local\\Programs\\Python\\Python311\\Lib\\site-packages\\keras\\src\\engine\\base_layer_utils.py:384: The name tf.executing_eagerly_outside_functions is deprecated. Please use tf.compat.v1.executing_eagerly_outside_functions instead.\n",
      "\n",
      "70185/70185 [==============================] - 167s 2ms/step - loss: 0.0022 - accuracy: 1.0000\n",
      "Epoch 2/10\n",
      "70185/70185 [==============================] - 156s 2ms/step - loss: 9.6159e-04 - accuracy: 1.0000\n",
      "Epoch 3/10\n",
      "70185/70185 [==============================] - 156s 2ms/step - loss: 7.1849e-04 - accuracy: 1.0000\n",
      "Epoch 4/10\n",
      "70185/70185 [==============================] - 158s 2ms/step - loss: 6.9321e-04 - accuracy: 1.0000\n",
      "Epoch 5/10\n",
      "70185/70185 [==============================] - 158s 2ms/step - loss: 6.7684e-04 - accuracy: 1.0000\n",
      "Epoch 6/10\n",
      "70185/70185 [==============================] - 158s 2ms/step - loss: 6.6568e-04 - accuracy: 1.0000\n",
      "Epoch 7/10\n",
      "70185/70185 [==============================] - 156s 2ms/step - loss: 6.5544e-04 - accuracy: 1.0000\n",
      "Epoch 8/10\n",
      "70185/70185 [==============================] - 156s 2ms/step - loss: 6.4611e-04 - accuracy: 1.0000\n",
      "Epoch 9/10\n",
      "70185/70185 [==============================] - 156s 2ms/step - loss: 6.3781e-04 - accuracy: 1.0000\n",
      "Epoch 10/10\n",
      "70185/70185 [==============================] - 158s 2ms/step - loss: 6.3012e-04 - accuracy: 1.0000\n"
     ]
    }
   ],
   "source": [
    "model = train_mil_model(X_train, y_train)"
   ]
  },
  {
   "cell_type": "code",
   "execution_count": 6,
   "metadata": {},
   "outputs": [
    {
     "name": "stdout",
     "output_type": "stream",
     "text": [
      "354365/561474 [=================>............] - ETA: 3:21 - loss: 6.4382e-04 - accuracy: 0.9999"
     ]
    }
   ],
   "source": [
    "evaluate_model(model, X_test, y_test)"
   ]
  },
  {
   "cell_type": "markdown",
   "metadata": {},
   "source": [
    "5. Save Model"
   ]
  },
  {
   "cell_type": "code",
   "execution_count": null,
   "metadata": {},
   "outputs": [],
   "source": [
    "model.save('Model-E10-BS1024')"
   ]
  }
 ],
 "metadata": {
  "kernelspec": {
   "display_name": "Python 3",
   "language": "python",
   "name": "python3"
  },
  "language_info": {
   "codemirror_mode": {
    "name": "ipython",
    "version": 3
   },
   "file_extension": ".py",
   "mimetype": "text/x-python",
   "name": "python",
   "nbconvert_exporter": "python",
   "pygments_lexer": "ipython3",
   "version": "3.11.9"
  }
 },
 "nbformat": 4,
 "nbformat_minor": 2
}
